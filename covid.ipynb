{
 "cells": [
  {
   "cell_type": "code",
   "execution_count": 1,
   "id": "78fe5418",
   "metadata": {},
   "outputs": [
    {
     "data": {
      "text/html": [
       "<div>\n",
       "<style scoped>\n",
       "    .dataframe tbody tr th:only-of-type {\n",
       "        vertical-align: middle;\n",
       "    }\n",
       "\n",
       "    .dataframe tbody tr th {\n",
       "        vertical-align: top;\n",
       "    }\n",
       "\n",
       "    .dataframe thead th {\n",
       "        text-align: right;\n",
       "    }\n",
       "</style>\n",
       "<table border=\"1\" class=\"dataframe\">\n",
       "  <thead>\n",
       "    <tr style=\"text-align: right;\">\n",
       "      <th></th>\n",
       "      <th>Direction</th>\n",
       "      <th>Year</th>\n",
       "      <th>Date</th>\n",
       "      <th>Weekday</th>\n",
       "      <th>Current_Match</th>\n",
       "      <th>Country</th>\n",
       "      <th>Value</th>\n",
       "      <th>Cumulative</th>\n",
       "      <th>Unnamed: 8</th>\n",
       "    </tr>\n",
       "  </thead>\n",
       "  <tbody>\n",
       "    <tr>\n",
       "      <th>0</th>\n",
       "      <td>Exports</td>\n",
       "      <td>2015</td>\n",
       "      <td>31/01/2015</td>\n",
       "      <td>Saturday</td>\n",
       "      <td>1/02/2020</td>\n",
       "      <td>All</td>\n",
       "      <td>257000000</td>\n",
       "      <td>257000000</td>\n",
       "      <td>NaN</td>\n",
       "    </tr>\n",
       "    <tr>\n",
       "      <th>1</th>\n",
       "      <td>Exports</td>\n",
       "      <td>2015</td>\n",
       "      <td>1/02/2015</td>\n",
       "      <td>Sunday</td>\n",
       "      <td>2/02/2020</td>\n",
       "      <td>All</td>\n",
       "      <td>123000000</td>\n",
       "      <td>380000000</td>\n",
       "      <td>NaN</td>\n",
       "    </tr>\n",
       "    <tr>\n",
       "      <th>2</th>\n",
       "      <td>Exports</td>\n",
       "      <td>2015</td>\n",
       "      <td>2/02/2015</td>\n",
       "      <td>Monday</td>\n",
       "      <td>3/02/2020</td>\n",
       "      <td>All</td>\n",
       "      <td>176000000</td>\n",
       "      <td>556000000</td>\n",
       "      <td>NaN</td>\n",
       "    </tr>\n",
       "    <tr>\n",
       "      <th>3</th>\n",
       "      <td>Exports</td>\n",
       "      <td>2015</td>\n",
       "      <td>3/02/2015</td>\n",
       "      <td>Tuesday</td>\n",
       "      <td>4/02/2020</td>\n",
       "      <td>All</td>\n",
       "      <td>115000000</td>\n",
       "      <td>671000000</td>\n",
       "      <td>NaN</td>\n",
       "    </tr>\n",
       "    <tr>\n",
       "      <th>4</th>\n",
       "      <td>Exports</td>\n",
       "      <td>2015</td>\n",
       "      <td>4/02/2015</td>\n",
       "      <td>Wednesday</td>\n",
       "      <td>5/02/2020</td>\n",
       "      <td>All</td>\n",
       "      <td>74000000</td>\n",
       "      <td>746000000</td>\n",
       "      <td>NaN</td>\n",
       "    </tr>\n",
       "  </tbody>\n",
       "</table>\n",
       "</div>"
      ],
      "text/plain": [
       "  Direction  Year        Date    Weekday Current_Match Country      Value  \\\n",
       "0   Exports  2015  31/01/2015   Saturday     1/02/2020     All  257000000   \n",
       "1   Exports  2015   1/02/2015     Sunday     2/02/2020     All  123000000   \n",
       "2   Exports  2015   2/02/2015     Monday     3/02/2020     All  176000000   \n",
       "3   Exports  2015   3/02/2015    Tuesday     4/02/2020     All  115000000   \n",
       "4   Exports  2015   4/02/2015  Wednesday     5/02/2020     All   74000000   \n",
       "\n",
       "   Cumulative  Unnamed: 8  \n",
       "0   257000000         NaN  \n",
       "1   380000000         NaN  \n",
       "2   556000000         NaN  \n",
       "3   671000000         NaN  \n",
       "4   746000000         NaN  "
      ]
     },
     "execution_count": 1,
     "metadata": {},
     "output_type": "execute_result"
    }
   ],
   "source": [
    "import pandas as pd\n",
    "import numpy as np\n",
    "covid = pd.read_csv('covid.csv',sep=',')\n",
    "covid.head()"
   ]
  },
  {
   "cell_type": "code",
   "execution_count": 34,
   "id": "d019e4e4",
   "metadata": {},
   "outputs": [
    {
     "data": {
      "text/plain": [
       "<AxesSubplot:xlabel='Year', ylabel='value'>"
      ]
     },
     "execution_count": 34,
     "metadata": {},
     "output_type": "execute_result"
    },
    {
     "data": {
      "image/png": "[encoded data removed]",
      "text/plain": [
       "<Figure size 432x288 with 1 Axes>"
      ]
     },
     "metadata": {
      "needs_background": "light"
     },
     "output_type": "display_data"
    }
   ],
   "source": [
    "year = covid['Year']\n",
    "avg = covid.groupby([year])[['Value']].mean()\n",
    "avg.plot(kind = 'bar', ylabel = \"value\", xlabel = \"Year\")"
   ]
  },
  {
   "cell_type": "code",
   "execution_count": 32,
   "id": "95662c00",
   "metadata": {},
   "outputs": [
    {
     "data": {
      "text/plain": [
       "<AxesSubplot:xlabel='Country', ylabel='value'>"
      ]
     },
     "execution_count": 32,
     "metadata": {},
     "output_type": "execute_result"
    },
    {
     "data": {
      "image/png": "[encoded data removed]",
      "text/plain": [
       "<Figure size 432x288 with 1 Axes>"
      ]
     },
     "metadata": {
      "needs_background": "light"
     },
     "output_type": "display_data"
    }
   ],
   "source": [
    "import pandas as pd\n",
    "import numpy as np\n",
    "covid = pd.read_csv('covid.csv',sep=',')\n",
    "country = covid['Country']\n",
    "dr = covid.groupby([country])[['Value']].mean()\n",
    "dr.plot(kind = 'bar', ylabel = \"value\", xlabel = \"Country\")"
   ]
  },
  {
   "cell_type": "code",
   "execution_count": null,
   "id": "e1159b29",
   "metadata": {},
   "outputs": [],
   "source": []
  },
  {
   "cell_type": "code",
   "execution_count": null,
   "id": "c5bd2e2b",
   "metadata": {},
   "outputs": [],
   "source": []
  }
 ],
 "metadata": {
  "kernelspec": {
   "display_name": "Python 3",
   "language": "python",
   "name": "python3"
  },
  "language_info": {
   "codemirror_mode": {
    "name": "ipython",
    "version": 3
   },
   "file_extension": ".py",
   "mimetype": "text/x-python",
   "name": "python",
   "nbconvert_exporter": "python",
   "pygments_lexer": "ipython3",
   "version": "3.8.8"
  }
 },
 "nbformat": 4,
 "nbformat_minor": 5
}
